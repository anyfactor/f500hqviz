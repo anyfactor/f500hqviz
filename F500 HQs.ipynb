{
 "cells": [
  {
   "cell_type": "code",
   "execution_count": 2,
   "metadata": {},
   "outputs": [],
   "source": [
    "import pandas as pd\n",
    "df = pd.read_csv(\"Fortune_500_Corporate_Headquarters.csv\")"
   ]
  },
  {
   "cell_type": "code",
   "execution_count": 3,
   "metadata": {},
   "outputs": [
    {
     "data": {
      "text/html": [
       "<div>\n",
       "<style scoped>\n",
       "    .dataframe tbody tr th:only-of-type {\n",
       "        vertical-align: middle;\n",
       "    }\n",
       "\n",
       "    .dataframe tbody tr th {\n",
       "        vertical-align: top;\n",
       "    }\n",
       "\n",
       "    .dataframe thead th {\n",
       "        text-align: right;\n",
       "    }\n",
       "</style>\n",
       "<table border=\"1\" class=\"dataframe\">\n",
       "  <thead>\n",
       "    <tr style=\"text-align: right;\">\n",
       "      <th></th>\n",
       "      <th>X</th>\n",
       "      <th>Y</th>\n",
       "      <th>FID</th>\n",
       "      <th>OBJECTID</th>\n",
       "      <th>RANK</th>\n",
       "      <th>NAME</th>\n",
       "      <th>ADDRESS</th>\n",
       "      <th>ADDRESS2</th>\n",
       "      <th>CITY</th>\n",
       "      <th>STATE</th>\n",
       "      <th>...</th>\n",
       "      <th>EMPLOYEES</th>\n",
       "      <th>REVENUES</th>\n",
       "      <th>LATITUDE</th>\n",
       "      <th>LONGITUDE</th>\n",
       "      <th>SOURCE</th>\n",
       "      <th>PRC</th>\n",
       "      <th>COUNTYFIPS</th>\n",
       "      <th>COMMENTS</th>\n",
       "      <th>WEBSITE</th>\n",
       "      <th>PROFIT</th>\n",
       "    </tr>\n",
       "  </thead>\n",
       "  <tbody>\n",
       "    <tr>\n",
       "      <th>0</th>\n",
       "      <td>-116.18099</td>\n",
       "      <td>43.59974</td>\n",
       "      <td>1</td>\n",
       "      <td>1</td>\n",
       "      <td>49</td>\n",
       "      <td>ALBERTSONS COS.</td>\n",
       "      <td>250 PARKCENTER BOULEVARD</td>\n",
       "      <td>NOT AVAILABLE</td>\n",
       "      <td>BOISE</td>\n",
       "      <td>ID</td>\n",
       "      <td>...</td>\n",
       "      <td>274000</td>\n",
       "      <td>58734</td>\n",
       "      <td>43.59974</td>\n",
       "      <td>-116.18099</td>\n",
       "      <td>BING MAPS</td>\n",
       "      <td>ADDRESS</td>\n",
       "      <td>16001</td>\n",
       "      <td>NOT AVAILABLE</td>\n",
       "      <td>HTTPS://WWW.ALBERTSONS.COM/#1</td>\n",
       "      <td>-502.2</td>\n",
       "    </tr>\n",
       "    <tr>\n",
       "      <th>1</th>\n",
       "      <td>-116.14697</td>\n",
       "      <td>43.52925</td>\n",
       "      <td>2</td>\n",
       "      <td>2</td>\n",
       "      <td>226</td>\n",
       "      <td>MICRON TECHNOLOGY</td>\n",
       "      <td>8000 SOUTH FEDERAL WAY</td>\n",
       "      <td>NOT AVAILABLE</td>\n",
       "      <td>BOISE</td>\n",
       "      <td>ID</td>\n",
       "      <td>...</td>\n",
       "      <td>31400</td>\n",
       "      <td>12399</td>\n",
       "      <td>43.52925</td>\n",
       "      <td>-116.14697</td>\n",
       "      <td>BING MAPS</td>\n",
       "      <td>ADDRESS</td>\n",
       "      <td>16001</td>\n",
       "      <td>NOT AVAILABLE</td>\n",
       "      <td>HTTPS://WWW.MICRON.COM/</td>\n",
       "      <td>-276.0</td>\n",
       "    </tr>\n",
       "    <tr>\n",
       "      <th>2</th>\n",
       "      <td>-79.43739</td>\n",
       "      <td>36.09317</td>\n",
       "      <td>3</td>\n",
       "      <td>3</td>\n",
       "      <td>290</td>\n",
       "      <td>LABORATORY CORP. OF AMERICA</td>\n",
       "      <td>358 SOUTH MAIN STREET</td>\n",
       "      <td>NOT AVAILABLE</td>\n",
       "      <td>BURLINGTON</td>\n",
       "      <td>NC</td>\n",
       "      <td>...</td>\n",
       "      <td>52000</td>\n",
       "      <td>9642</td>\n",
       "      <td>36.09317</td>\n",
       "      <td>-79.43739</td>\n",
       "      <td>BING MAPS</td>\n",
       "      <td>ADDRESS</td>\n",
       "      <td>37001</td>\n",
       "      <td>NOT AVAILABLE</td>\n",
       "      <td>HTTPS://WWW.LABCORP.COM/</td>\n",
       "      <td>732.1</td>\n",
       "    </tr>\n",
       "    <tr>\n",
       "      <th>3</th>\n",
       "      <td>-121.95694</td>\n",
       "      <td>37.48860</td>\n",
       "      <td>4</td>\n",
       "      <td>4</td>\n",
       "      <td>440</td>\n",
       "      <td>LAM RESEARCH</td>\n",
       "      <td>4650 CUSHING PARKWAY</td>\n",
       "      <td>NOT AVAILABLE</td>\n",
       "      <td>FREMONT</td>\n",
       "      <td>CA</td>\n",
       "      <td>...</td>\n",
       "      <td>7500</td>\n",
       "      <td>5886</td>\n",
       "      <td>37.48860</td>\n",
       "      <td>-121.95694</td>\n",
       "      <td>BING MAPS</td>\n",
       "      <td>ADDRESS</td>\n",
       "      <td>6001</td>\n",
       "      <td>NOT AVAILABLE</td>\n",
       "      <td>HTTPS://WWW.LAMRESEARCH.COM/</td>\n",
       "      <td>914.0</td>\n",
       "    </tr>\n",
       "    <tr>\n",
       "      <th>4</th>\n",
       "      <td>-121.97965</td>\n",
       "      <td>37.49628</td>\n",
       "      <td>5</td>\n",
       "      <td>5</td>\n",
       "      <td>198</td>\n",
       "      <td>SYNNEX</td>\n",
       "      <td>44201 NOBEL DRIVE</td>\n",
       "      <td>NOT AVAILABLE</td>\n",
       "      <td>FREMONT</td>\n",
       "      <td>CA</td>\n",
       "      <td>...</td>\n",
       "      <td>110000</td>\n",
       "      <td>14062</td>\n",
       "      <td>37.49628</td>\n",
       "      <td>-121.97965</td>\n",
       "      <td>BING MAPS</td>\n",
       "      <td>ADDRESS</td>\n",
       "      <td>6001</td>\n",
       "      <td>NOT AVAILABLE</td>\n",
       "      <td>HTTPS://WWW.SYNNEXCORP.COM/</td>\n",
       "      <td>234.9</td>\n",
       "    </tr>\n",
       "  </tbody>\n",
       "</table>\n",
       "<p>5 rows × 22 columns</p>\n",
       "</div>"
      ],
      "text/plain": [
       "           X         Y  FID  OBJECTID  RANK                         NAME  \\\n",
       "0 -116.18099  43.59974    1         1    49              ALBERTSONS COS.   \n",
       "1 -116.14697  43.52925    2         2   226            MICRON TECHNOLOGY   \n",
       "2  -79.43739  36.09317    3         3   290  LABORATORY CORP. OF AMERICA   \n",
       "3 -121.95694  37.48860    4         4   440                 LAM RESEARCH   \n",
       "4 -121.97965  37.49628    5         5   198                       SYNNEX   \n",
       "\n",
       "                    ADDRESS       ADDRESS2        CITY STATE  ...  EMPLOYEES  \\\n",
       "0  250 PARKCENTER BOULEVARD  NOT AVAILABLE       BOISE    ID  ...     274000   \n",
       "1    8000 SOUTH FEDERAL WAY  NOT AVAILABLE       BOISE    ID  ...      31400   \n",
       "2     358 SOUTH MAIN STREET  NOT AVAILABLE  BURLINGTON    NC  ...      52000   \n",
       "3      4650 CUSHING PARKWAY  NOT AVAILABLE     FREMONT    CA  ...       7500   \n",
       "4         44201 NOBEL DRIVE  NOT AVAILABLE     FREMONT    CA  ...     110000   \n",
       "\n",
       "  REVENUES  LATITUDE  LONGITUDE     SOURCE      PRC COUNTYFIPS       COMMENTS  \\\n",
       "0    58734  43.59974 -116.18099  BING MAPS  ADDRESS      16001  NOT AVAILABLE   \n",
       "1    12399  43.52925 -116.14697  BING MAPS  ADDRESS      16001  NOT AVAILABLE   \n",
       "2     9642  36.09317  -79.43739  BING MAPS  ADDRESS      37001  NOT AVAILABLE   \n",
       "3     5886  37.48860 -121.95694  BING MAPS  ADDRESS       6001  NOT AVAILABLE   \n",
       "4    14062  37.49628 -121.97965  BING MAPS  ADDRESS       6001  NOT AVAILABLE   \n",
       "\n",
       "                         WEBSITE PROFIT  \n",
       "0  HTTPS://WWW.ALBERTSONS.COM/#1 -502.2  \n",
       "1        HTTPS://WWW.MICRON.COM/ -276.0  \n",
       "2       HTTPS://WWW.LABCORP.COM/  732.1  \n",
       "3   HTTPS://WWW.LAMRESEARCH.COM/  914.0  \n",
       "4    HTTPS://WWW.SYNNEXCORP.COM/  234.9  \n",
       "\n",
       "[5 rows x 22 columns]"
      ]
     },
     "execution_count": 3,
     "metadata": {},
     "output_type": "execute_result"
    }
   ],
   "source": [
    "df.head()"
   ]
  },
  {
   "cell_type": "code",
   "execution_count": 12,
   "metadata": {},
   "outputs": [],
   "source": [
    "states = {}\n",
    "\n",
    "for i in list(df[\"STATE\"]):\n",
    "    states.setdefault(i, 0)\n",
    "    states[i]+=1\n"
   ]
  },
  {
   "cell_type": "code",
   "execution_count": 13,
   "metadata": {},
   "outputs": [
    {
     "data": {
      "text/plain": [
       "{'ID': 2,\n",
       " 'NC': 11,\n",
       " 'CA': 53,\n",
       " 'PA': 21,\n",
       " 'IN': 7,\n",
       " 'CO': 10,\n",
       " 'VA': 23,\n",
       " 'AR': 6,\n",
       " 'NJ': 22,\n",
       " 'MI': 17,\n",
       " 'TX': 49,\n",
       " 'FL': 17,\n",
       " 'OH': 25,\n",
       " 'NV': 2,\n",
       " 'GA': 18,\n",
       " 'IL': 35,\n",
       " 'MN': 18,\n",
       " 'WI': 9,\n",
       " 'TN': 11,\n",
       " 'DC': 2,\n",
       " 'NE': 5,\n",
       " 'NY': 53,\n",
       " 'CT': 19,\n",
       " 'MO': 10,\n",
       " 'MA': 12,\n",
       " 'OR': 2,\n",
       " 'AL': 1,\n",
       " 'KY': 3,\n",
       " 'KS': 2,\n",
       " 'WA': 10,\n",
       " 'IA': 3,\n",
       " 'AZ': 4,\n",
       " 'MD': 4,\n",
       " 'DE': 2,\n",
       " 'OK': 5,\n",
       " 'LA': 2,\n",
       " 'RI': 4,\n",
       " 'UT': 1}"
      ]
     },
     "execution_count": 13,
     "metadata": {},
     "output_type": "execute_result"
    }
   ],
   "source": [
    "states"
   ]
  },
  {
   "cell_type": "code",
   "execution_count": 23,
   "metadata": {},
   "outputs": [
    {
     "ename": "SyntaxError",
     "evalue": "invalid syntax (<ipython-input-23-b7e0683a0e47>, line 1)",
     "output_type": "error",
     "traceback": [
      "\u001b[1;36m  File \u001b[1;32m\"<ipython-input-23-b7e0683a0e47>\"\u001b[1;36m, line \u001b[1;32m1\u001b[0m\n\u001b[1;33m    state_sorted = sorted(states.items(), key=lambda )\u001b[0m\n\u001b[1;37m                                                     ^\u001b[0m\n\u001b[1;31mSyntaxError\u001b[0m\u001b[1;31m:\u001b[0m invalid syntax\n"
     ]
    }
   ],
   "source": [
    "state_sorted = sorted(states.items(), key=lambda )"
   ]
  },
  {
   "cell_type": "code",
   "execution_count": 25,
   "metadata": {},
   "outputs": [
    {
     "data": {
      "text/plain": [
       "[('AL', 1),\n",
       " ('UT', 1),\n",
       " ('ID', 2),\n",
       " ('NV', 2),\n",
       " ('DC', 2),\n",
       " ('OR', 2),\n",
       " ('KS', 2),\n",
       " ('DE', 2),\n",
       " ('LA', 2),\n",
       " ('KY', 3),\n",
       " ('IA', 3),\n",
       " ('AZ', 4),\n",
       " ('MD', 4),\n",
       " ('RI', 4),\n",
       " ('NE', 5),\n",
       " ('OK', 5),\n",
       " ('AR', 6),\n",
       " ('IN', 7),\n",
       " ('WI', 9),\n",
       " ('CO', 10),\n",
       " ('MO', 10),\n",
       " ('WA', 10),\n",
       " ('NC', 11),\n",
       " ('TN', 11),\n",
       " ('MA', 12),\n",
       " ('MI', 17),\n",
       " ('FL', 17),\n",
       " ('GA', 18),\n",
       " ('MN', 18),\n",
       " ('CT', 19),\n",
       " ('PA', 21),\n",
       " ('NJ', 22),\n",
       " ('VA', 23),\n",
       " ('OH', 25),\n",
       " ('IL', 35),\n",
       " ('TX', 49),\n",
       " ('CA', 53),\n",
       " ('NY', 53)]"
      ]
     },
     "execution_count": 25,
     "metadata": {},
     "output_type": "execute_result"
    }
   ],
   "source": [
    "state_sorted"
   ]
  },
  {
   "cell_type": "code",
   "execution_count": 20,
   "metadata": {},
   "outputs": [],
   "source": [
    "state_names = []\n",
    "state_count = []\n",
    "\n",
    "for i in range(len(state_sorted)):\n",
    "    state_names.append(state_sorted[i][0])\n",
    "    state_count.append(state_sorted[i][1])    \n",
    "    "
   ]
  },
  {
   "cell_type": "code",
   "execution_count": 21,
   "metadata": {},
   "outputs": [
    {
     "data": {
      "text/plain": [
       "['AL',\n",
       " 'UT',\n",
       " 'ID',\n",
       " 'NV',\n",
       " 'DC',\n",
       " 'OR',\n",
       " 'KS',\n",
       " 'DE',\n",
       " 'LA',\n",
       " 'KY',\n",
       " 'IA',\n",
       " 'AZ',\n",
       " 'MD',\n",
       " 'RI',\n",
       " 'NE',\n",
       " 'OK',\n",
       " 'AR',\n",
       " 'IN',\n",
       " 'WI',\n",
       " 'CO',\n",
       " 'MO',\n",
       " 'WA',\n",
       " 'NC',\n",
       " 'TN',\n",
       " 'MA',\n",
       " 'MI',\n",
       " 'FL',\n",
       " 'GA',\n",
       " 'MN',\n",
       " 'CT',\n",
       " 'PA',\n",
       " 'NJ',\n",
       " 'VA',\n",
       " 'OH',\n",
       " 'IL',\n",
       " 'TX',\n",
       " 'CA',\n",
       " 'NY']"
      ]
     },
     "execution_count": 21,
     "metadata": {},
     "output_type": "execute_result"
    }
   ],
   "source": [
    "state_names"
   ]
  },
  {
   "cell_type": "code",
   "execution_count": 37,
   "metadata": {},
   "outputs": [
    {
     "data": {
      "image/svg+xml": [
       "<svg class=\"pygal-chart\" id=\"chart-761e2cb9-273d-420e-a1ff-0cd7f1690059\" viewBox=\"0 0 800 600\" xmlns=\"http://www.w3.org/2000/svg\" xmlns:xlink=\"http://www.w3.org/1999/xlink\"><!--Generated with pygal 2.4.0 (lxml) ©Kozea 2012-2016 on 2019-06-02--><!--http://pygal.org--><!--http://github.com/Kozea/pygal--><defs><style type=\"text/css\">#chart-761e2cb9-273d-420e-a1ff-0cd7f1690059{-webkit-user-select:none;-webkit-font-smoothing:antialiased;font-family:Consolas,&quot;Liberation Mono&quot;,Menlo,Courier,monospace}#chart-761e2cb9-273d-420e-a1ff-0cd7f1690059 .title{font-family:Consolas,&quot;Liberation Mono&quot;,Menlo,Courier,monospace;font-size:16px}#chart-761e2cb9-273d-420e-a1ff-0cd7f1690059 .legends .legend text{font-family:Consolas,&quot;Liberation Mono&quot;,Menlo,Courier,monospace;font-size:14px}#chart-761e2cb9-273d-420e-a1ff-0cd7f1690059 .axis text{font-family:Consolas,&quot;Liberation Mono&quot;,Menlo,Courier,monospace;font-size:10px}#chart-761e2cb9-273d-420e-a1ff-0cd7f1690059 .axis text.major{font-family:Consolas,&quot;Liberation Mono&quot;,Menlo,Courier,monospace;font-size:10px}#chart-761e2cb9-273d-420e-a1ff-0cd7f1690059 .text-overlay text.value{font-family:Consolas,&quot;Liberation Mono&quot;,Menlo,Courier,monospace;font-size:16px}#chart-761e2cb9-273d-420e-a1ff-0cd7f1690059 .text-overlay text.label{font-family:Consolas,&quot;Liberation Mono&quot;,Menlo,Courier,monospace;font-size:10px}#chart-761e2cb9-273d-420e-a1ff-0cd7f1690059 .tooltip{font-family:Consolas,&quot;Liberation Mono&quot;,Menlo,Courier,monospace;font-size:14px}#chart-761e2cb9-273d-420e-a1ff-0cd7f1690059 text.no_data{font-family:Consolas,&quot;Liberation Mono&quot;,Menlo,Courier,monospace;font-size:64px}\n",
       "#chart-761e2cb9-273d-420e-a1ff-0cd7f1690059{background-color:#000}#chart-761e2cb9-273d-420e-a1ff-0cd7f1690059 path,#chart-761e2cb9-273d-420e-a1ff-0cd7f1690059 line,#chart-761e2cb9-273d-420e-a1ff-0cd7f1690059 rect,#chart-761e2cb9-273d-420e-a1ff-0cd7f1690059 circle{-webkit-transition:250ms ease-in;-moz-transition:250ms ease-in;transition:250ms ease-in}#chart-761e2cb9-273d-420e-a1ff-0cd7f1690059 .graph &gt; .background{fill:#000}#chart-761e2cb9-273d-420e-a1ff-0cd7f1690059 .plot &gt; .background{fill:#141414}#chart-761e2cb9-273d-420e-a1ff-0cd7f1690059 .graph{fill:rgba(255,255,255,0.9)}#chart-761e2cb9-273d-420e-a1ff-0cd7f1690059 text.no_data{fill:rgba(255,255,255,0.9)}#chart-761e2cb9-273d-420e-a1ff-0cd7f1690059 .title{fill:rgba(255,255,255,0.9)}#chart-761e2cb9-273d-420e-a1ff-0cd7f1690059 .legends .legend text{fill:rgba(255,255,255,0.9)}#chart-761e2cb9-273d-420e-a1ff-0cd7f1690059 .legends .legend:hover text{fill:rgba(255,255,255,0.9)}#chart-761e2cb9-273d-420e-a1ff-0cd7f1690059 .axis .line{stroke:rgba(255,255,255,0.9)}#chart-761e2cb9-273d-420e-a1ff-0cd7f1690059 .axis .guide.line{stroke:rgba(255,255,255,0.6)}#chart-761e2cb9-273d-420e-a1ff-0cd7f1690059 .axis .major.line{stroke:rgba(255,255,255,0.9)}#chart-761e2cb9-273d-420e-a1ff-0cd7f1690059 .axis text.major{fill:rgba(255,255,255,0.9)}#chart-761e2cb9-273d-420e-a1ff-0cd7f1690059 .axis.y .guides:hover .guide.line,#chart-761e2cb9-273d-420e-a1ff-0cd7f1690059 .line-graph .axis.x .guides:hover .guide.line,#chart-761e2cb9-273d-420e-a1ff-0cd7f1690059 .stackedline-graph .axis.x .guides:hover .guide.line,#chart-761e2cb9-273d-420e-a1ff-0cd7f1690059 .xy-graph .axis.x .guides:hover .guide.line{stroke:rgba(255,255,255,0.9)}#chart-761e2cb9-273d-420e-a1ff-0cd7f1690059 .axis .guides:hover text{fill:rgba(255,255,255,0.9)}#chart-761e2cb9-273d-420e-a1ff-0cd7f1690059 .reactive{fill-opacity:.55;stroke-opacity:.8}#chart-761e2cb9-273d-420e-a1ff-0cd7f1690059 .ci{stroke:rgba(255,255,255,0.9)}#chart-761e2cb9-273d-420e-a1ff-0cd7f1690059 .reactive.active,#chart-761e2cb9-273d-420e-a1ff-0cd7f1690059 .active .reactive{fill-opacity:.9;stroke-opacity:.9;stroke-width:4}#chart-761e2cb9-273d-420e-a1ff-0cd7f1690059 .ci .reactive.active{stroke-width:1.5}#chart-761e2cb9-273d-420e-a1ff-0cd7f1690059 .series text{fill:rgba(255,255,255,0.9)}#chart-761e2cb9-273d-420e-a1ff-0cd7f1690059 .tooltip rect{fill:#141414;stroke:rgba(255,255,255,0.9);-webkit-transition:opacity 250ms ease-in;-moz-transition:opacity 250ms ease-in;transition:opacity 250ms ease-in}#chart-761e2cb9-273d-420e-a1ff-0cd7f1690059 .tooltip .label{fill:rgba(255,255,255,0.9)}#chart-761e2cb9-273d-420e-a1ff-0cd7f1690059 .tooltip .label{fill:rgba(255,255,255,0.9)}#chart-761e2cb9-273d-420e-a1ff-0cd7f1690059 .tooltip .legend{font-size:.8em;fill:rgba(255,255,255,0.6)}#chart-761e2cb9-273d-420e-a1ff-0cd7f1690059 .tooltip .x_label{font-size:.6em;fill:rgba(255,255,255,0.9)}#chart-761e2cb9-273d-420e-a1ff-0cd7f1690059 .tooltip .xlink{font-size:.5em;text-decoration:underline}#chart-761e2cb9-273d-420e-a1ff-0cd7f1690059 .tooltip .value{font-size:1.5em}#chart-761e2cb9-273d-420e-a1ff-0cd7f1690059 .bound{font-size:.5em}#chart-761e2cb9-273d-420e-a1ff-0cd7f1690059 .max-value{font-size:.75em;fill:rgba(255,255,255,0.6)}#chart-761e2cb9-273d-420e-a1ff-0cd7f1690059 .map-element{fill:#141414;stroke:rgba(255,255,255,0.6) !important}#chart-761e2cb9-273d-420e-a1ff-0cd7f1690059 .map-element .reactive{fill-opacity:inherit;stroke-opacity:inherit}#chart-761e2cb9-273d-420e-a1ff-0cd7f1690059 .color-0,#chart-761e2cb9-273d-420e-a1ff-0cd7f1690059 .color-0 a:visited{stroke:#7ed2fa;fill:#7ed2fa}#chart-761e2cb9-273d-420e-a1ff-0cd7f1690059 .text-overlay .color-0 text{fill:black}\n",
       "#chart-761e2cb9-273d-420e-a1ff-0cd7f1690059 text.no_data{text-anchor:middle}#chart-761e2cb9-273d-420e-a1ff-0cd7f1690059 .guide.line{fill:none}#chart-761e2cb9-273d-420e-a1ff-0cd7f1690059 .centered{text-anchor:middle}#chart-761e2cb9-273d-420e-a1ff-0cd7f1690059 .title{text-anchor:middle}#chart-761e2cb9-273d-420e-a1ff-0cd7f1690059 .legends .legend text{fill-opacity:1}#chart-761e2cb9-273d-420e-a1ff-0cd7f1690059 .axis.x text{text-anchor:middle}#chart-761e2cb9-273d-420e-a1ff-0cd7f1690059 .axis.x:not(.web) text[transform]{text-anchor:start}#chart-761e2cb9-273d-420e-a1ff-0cd7f1690059 .axis.x:not(.web) text[transform].backwards{text-anchor:end}#chart-761e2cb9-273d-420e-a1ff-0cd7f1690059 .axis.y text{text-anchor:end}#chart-761e2cb9-273d-420e-a1ff-0cd7f1690059 .axis.y text[transform].backwards{text-anchor:start}#chart-761e2cb9-273d-420e-a1ff-0cd7f1690059 .axis.y2 text{text-anchor:start}#chart-761e2cb9-273d-420e-a1ff-0cd7f1690059 .axis.y2 text[transform].backwards{text-anchor:end}#chart-761e2cb9-273d-420e-a1ff-0cd7f1690059 .axis .guide.line{stroke-dasharray:4,4}#chart-761e2cb9-273d-420e-a1ff-0cd7f1690059 .axis .major.guide.line{stroke-dasharray:6,6}#chart-761e2cb9-273d-420e-a1ff-0cd7f1690059 .horizontal .axis.y .guide.line,#chart-761e2cb9-273d-420e-a1ff-0cd7f1690059 .horizontal .axis.y2 .guide.line,#chart-761e2cb9-273d-420e-a1ff-0cd7f1690059 .vertical .axis.x .guide.line{opacity:0}#chart-761e2cb9-273d-420e-a1ff-0cd7f1690059 .horizontal .axis.always_show .guide.line,#chart-761e2cb9-273d-420e-a1ff-0cd7f1690059 .vertical .axis.always_show .guide.line{opacity:1 !important}#chart-761e2cb9-273d-420e-a1ff-0cd7f1690059 .axis.y .guides:hover .guide.line,#chart-761e2cb9-273d-420e-a1ff-0cd7f1690059 .axis.y2 .guides:hover .guide.line,#chart-761e2cb9-273d-420e-a1ff-0cd7f1690059 .axis.x .guides:hover .guide.line{opacity:1}#chart-761e2cb9-273d-420e-a1ff-0cd7f1690059 .axis .guides:hover text{opacity:1}#chart-761e2cb9-273d-420e-a1ff-0cd7f1690059 .nofill{fill:none}#chart-761e2cb9-273d-420e-a1ff-0cd7f1690059 .subtle-fill{fill-opacity:.2}#chart-761e2cb9-273d-420e-a1ff-0cd7f1690059 .dot{stroke-width:1px;fill-opacity:1}#chart-761e2cb9-273d-420e-a1ff-0cd7f1690059 .dot.active{stroke-width:5px}#chart-761e2cb9-273d-420e-a1ff-0cd7f1690059 .dot.negative{fill:transparent}#chart-761e2cb9-273d-420e-a1ff-0cd7f1690059 text,#chart-761e2cb9-273d-420e-a1ff-0cd7f1690059 tspan{stroke:none !important}#chart-761e2cb9-273d-420e-a1ff-0cd7f1690059 .series text.active{opacity:1}#chart-761e2cb9-273d-420e-a1ff-0cd7f1690059 .tooltip rect{fill-opacity:.95;stroke-width:.5}#chart-761e2cb9-273d-420e-a1ff-0cd7f1690059 .tooltip text{fill-opacity:1}#chart-761e2cb9-273d-420e-a1ff-0cd7f1690059 .showable{visibility:hidden}#chart-761e2cb9-273d-420e-a1ff-0cd7f1690059 .showable.shown{visibility:visible}#chart-761e2cb9-273d-420e-a1ff-0cd7f1690059 .gauge-background{fill:rgba(229,229,229,1);stroke:none}#chart-761e2cb9-273d-420e-a1ff-0cd7f1690059 .bg-lines{stroke:#000;stroke-width:2px}</style><script type=\"text/javascript\">window.pygal = window.pygal || {};window.pygal.config = window.pygal.config || {};window.pygal.config['761e2cb9-273d-420e-a1ff-0cd7f1690059'] = {&quot;allow_interruptions&quot;: false, &quot;box_mode&quot;: &quot;extremes&quot;, &quot;classes&quot;: [&quot;pygal-chart&quot;], &quot;css&quot;: [&quot;file://style.css&quot;, &quot;file://graph.css&quot;], &quot;defs&quot;: [], &quot;disable_xml_declaration&quot;: true, &quot;dots_size&quot;: 2.5, &quot;dynamic_print_values&quot;: false, &quot;explicit_size&quot;: false, &quot;fill&quot;: true, &quot;force_uri_protocol&quot;: &quot;https&quot;, &quot;formatter&quot;: null, &quot;half_pie&quot;: false, &quot;height&quot;: 600, &quot;include_x_axis&quot;: false, &quot;inner_radius&quot;: 0, &quot;interpolate&quot;: &quot;cubic&quot;, &quot;interpolation_parameters&quot;: {}, &quot;interpolation_precision&quot;: 250, &quot;inverse_y_axis&quot;: false, &quot;js&quot;: [&quot;//kozea.github.io/pygal.js/2.0.x/pygal-tooltips.min.js&quot;], &quot;legend_at_bottom&quot;: false, &quot;legend_at_bottom_columns&quot;: null, &quot;legend_box_size&quot;: 12, &quot;logarithmic&quot;: false, &quot;margin&quot;: 20, &quot;margin_bottom&quot;: null, &quot;margin_left&quot;: null, &quot;margin_right&quot;: null, &quot;margin_top&quot;: null, &quot;max_scale&quot;: 16, &quot;min_scale&quot;: 4, &quot;missing_value_fill_truncation&quot;: &quot;x&quot;, &quot;no_data_text&quot;: &quot;No data&quot;, &quot;no_prefix&quot;: false, &quot;order_min&quot;: null, &quot;pretty_print&quot;: false, &quot;print_labels&quot;: false, &quot;print_values&quot;: false, &quot;print_values_position&quot;: &quot;center&quot;, &quot;print_zeroes&quot;: true, &quot;range&quot;: null, &quot;rounded_bars&quot;: null, &quot;secondary_range&quot;: null, &quot;show_dots&quot;: true, &quot;show_legend&quot;: true, &quot;show_minor_x_labels&quot;: true, &quot;show_minor_y_labels&quot;: true, &quot;show_only_major_dots&quot;: false, &quot;show_x_guides&quot;: false, &quot;show_x_labels&quot;: true, &quot;show_y_guides&quot;: true, &quot;show_y_labels&quot;: true, &quot;spacing&quot;: 10, &quot;stack_from_top&quot;: false, &quot;strict&quot;: false, &quot;stroke&quot;: true, &quot;stroke_style&quot;: null, &quot;style&quot;: {&quot;background&quot;: &quot;#000&quot;, &quot;ci_colors&quot;: [], &quot;colors&quot;: [&quot;#7ed2fa&quot;, &quot;#7dcf30&quot;, &quot;#247fab&quot;, &quot;#64a626&quot;, &quot;#2f9ed3&quot;, &quot;#97d959&quot;, &quot;#1b6081&quot;, &quot;#fff&quot;], &quot;font_family&quot;: &quot;Consolas, \\&quot;Liberation Mono\\&quot;, Menlo, Courier, monospace&quot;, &quot;foreground&quot;: &quot;rgba(255, 255, 255, 0.9)&quot;, &quot;foreground_strong&quot;: &quot;rgba(255, 255, 255, 0.9)&quot;, &quot;foreground_subtle&quot;: &quot;rgba(255, 255, 255, 0.6)&quot;, &quot;guide_stroke_dasharray&quot;: &quot;4,4&quot;, &quot;label_font_family&quot;: &quot;Consolas, \\&quot;Liberation Mono\\&quot;, Menlo, Courier, monospace&quot;, &quot;label_font_size&quot;: 10, &quot;legend_font_family&quot;: &quot;Consolas, \\&quot;Liberation Mono\\&quot;, Menlo, Courier, monospace&quot;, &quot;legend_font_size&quot;: 14, &quot;major_guide_stroke_dasharray&quot;: &quot;6,6&quot;, &quot;major_label_font_family&quot;: &quot;Consolas, \\&quot;Liberation Mono\\&quot;, Menlo, Courier, monospace&quot;, &quot;major_label_font_size&quot;: 10, &quot;no_data_font_family&quot;: &quot;Consolas, \\&quot;Liberation Mono\\&quot;, Menlo, Courier, monospace&quot;, &quot;no_data_font_size&quot;: 64, &quot;opacity&quot;: &quot;.55&quot;, &quot;opacity_hover&quot;: &quot;.9&quot;, &quot;plot_background&quot;: &quot;#141414&quot;, &quot;stroke_opacity&quot;: &quot;.8&quot;, &quot;stroke_opacity_hover&quot;: &quot;.9&quot;, &quot;title_font_family&quot;: &quot;Consolas, \\&quot;Liberation Mono\\&quot;, Menlo, Courier, monospace&quot;, &quot;title_font_size&quot;: 16, &quot;tooltip_font_family&quot;: &quot;Consolas, \\&quot;Liberation Mono\\&quot;, Menlo, Courier, monospace&quot;, &quot;tooltip_font_size&quot;: 14, &quot;transition&quot;: &quot;250ms ease-in&quot;, &quot;value_background&quot;: &quot;rgba(229, 229, 229, 1)&quot;, &quot;value_colors&quot;: [], &quot;value_font_family&quot;: &quot;Consolas, \\&quot;Liberation Mono\\&quot;, Menlo, Courier, monospace&quot;, &quot;value_font_size&quot;: 16, &quot;value_label_font_family&quot;: &quot;Consolas, \\&quot;Liberation Mono\\&quot;, Menlo, Courier, monospace&quot;, &quot;value_label_font_size&quot;: 10}, &quot;title&quot;: null, &quot;tooltip_border_radius&quot;: 0, &quot;tooltip_fancy_mode&quot;: true, &quot;truncate_label&quot;: null, &quot;truncate_legend&quot;: null, &quot;width&quot;: 800, &quot;x_label_rotation&quot;: 0, &quot;x_labels&quot;: [&quot;NY&quot;, &quot;CA&quot;, &quot;TX&quot;, &quot;IL&quot;, &quot;OH&quot;, &quot;VA&quot;, &quot;NJ&quot;, &quot;PA&quot;, &quot;CT&quot;, &quot;MN&quot;, &quot;GA&quot;, &quot;FL&quot;, &quot;MI&quot;, &quot;MA&quot;, &quot;TN&quot;, &quot;NC&quot;, &quot;WA&quot;, &quot;MO&quot;, &quot;CO&quot;, &quot;WI&quot;, &quot;IN&quot;, &quot;AR&quot;, &quot;OK&quot;, &quot;NE&quot;, &quot;RI&quot;, &quot;MD&quot;, &quot;AZ&quot;, &quot;IA&quot;, &quot;KY&quot;, &quot;LA&quot;, &quot;DE&quot;, &quot;KS&quot;, &quot;OR&quot;, &quot;DC&quot;, &quot;NV&quot;, &quot;ID&quot;, &quot;UT&quot;, &quot;AL&quot;], &quot;x_labels_major&quot;: null, &quot;x_labels_major_count&quot;: null, &quot;x_labels_major_every&quot;: null, &quot;x_title&quot;: null, &quot;xrange&quot;: null, &quot;y_label_rotation&quot;: 0, &quot;y_labels&quot;: [0, 5, 10, 15, 20, 25, 30, 35, 40, 45, 50, 55], &quot;y_labels_major&quot;: null, &quot;y_labels_major_count&quot;: null, &quot;y_labels_major_every&quot;: null, &quot;y_title&quot;: null, &quot;zero&quot;: 0, &quot;legends&quot;: [&quot;States&quot;]}</script><script type=\"text/javascript\" xlink:href=\"https://kozea.github.io/pygal.js/2.0.x/pygal-tooltips.min.js\"/></defs><title>Pygal</title><g class=\"graph bar-graph vertical\"><rect class=\"background\" height=\"600\" width=\"800\" x=\"0\" y=\"0\"/><g class=\"plot\" transform=\"translate(114, 20)\"><rect class=\"background\" height=\"540\" width=\"665.6\" x=\"0\" y=\"0\"/><g class=\"axis y always_show\"><g class=\"guides\"><path class=\"axis major line\" d=\"M0.000000 529.615385 h665.600000\"/><text class=\"major\" x=\"-5\" y=\"533.1153846153846\">0</text><title>0</title></g><g class=\"guides\"><path class=\"guide line\" d=\"M0.000000 482.412587 h665.600000\"/><text class=\"\" x=\"-5\" y=\"485.9125874125874\">5</text><title>5</title></g><g class=\"guides\"><path class=\"guide line\" d=\"M0.000000 435.209790 h665.600000\"/><text class=\"\" x=\"-5\" y=\"438.7097902097902\">10</text><title>10</title></g><g class=\"guides\"><path class=\"guide line\" d=\"M0.000000 388.006993 h665.600000\"/><text class=\"\" x=\"-5\" y=\"391.506993006993\">15</text><title>15</title></g><g class=\"guides\"><path class=\"guide line\" d=\"M0.000000 340.804196 h665.600000\"/><text class=\"\" x=\"-5\" y=\"344.30419580419584\">20</text><title>20</title></g><g class=\"guides\"><path class=\"guide line\" d=\"M0.000000 293.601399 h665.600000\"/><text class=\"\" x=\"-5\" y=\"297.1013986013986\">25</text><title>25</title></g><g class=\"guides\"><path class=\"guide line\" d=\"M0.000000 246.398601 h665.600000\"/><text class=\"\" x=\"-5\" y=\"249.8986013986014\">30</text><title>30</title></g><g class=\"guides\"><path class=\"guide line\" d=\"M0.000000 199.195804 h665.600000\"/><text class=\"\" x=\"-5\" y=\"202.69580419580421\">35</text><title>35</title></g><g class=\"guides\"><path class=\"guide line\" d=\"M0.000000 151.993007 h665.600000\"/><text class=\"\" x=\"-5\" y=\"155.493006993007\">40</text><title>40</title></g><g class=\"guides\"><path class=\"guide line\" d=\"M0.000000 104.790210 h665.600000\"/><text class=\"\" x=\"-5\" y=\"108.29020979020981\">45</text><title>45</title></g><g class=\"guides\"><path class=\"major guide line\" d=\"M0.000000 57.587413 h665.600000\"/><text class=\"major\" x=\"-5\" y=\"61.08741258741259\">50</text><title>50</title></g><g class=\"guides\"><path class=\"guide line\" d=\"M0.000000 10.384615 h665.600000\"/><text class=\"\" x=\"-5\" y=\"13.884615384615358\">55</text><title>55</title></g></g><g class=\"axis x\"><path class=\"line\" d=\"M0.000000 0.000000 v540.000000\"/><g class=\"guides\"><path class=\"guide line\" d=\"M21.221053 0.000000 v540.000000\"/><text class=\"\" x=\"21.22105263157895\" y=\"555.0\">NY</text></g><g class=\"guides\"><path class=\"guide line\" d=\"M38.063158 0.000000 v540.000000\"/><text class=\"\" x=\"38.06315789473684\" y=\"555.0\">CA</text></g><g class=\"guides\"><path class=\"guide line\" d=\"M54.905263 0.000000 v540.000000\"/><text class=\"\" x=\"54.90526315789474\" y=\"555.0\">TX</text></g><g class=\"guides\"><path class=\"guide line\" d=\"M71.747368 0.000000 v540.000000\"/><text class=\"\" x=\"71.74736842105263\" y=\"555.0\">IL</text></g><g class=\"guides\"><path class=\"guide line\" d=\"M88.589474 0.000000 v540.000000\"/><text class=\"\" x=\"88.58947368421052\" y=\"555.0\">OH</text></g><g class=\"guides\"><path class=\"guide line\" d=\"M105.431579 0.000000 v540.000000\"/><text class=\"\" x=\"105.43157894736842\" y=\"555.0\">VA</text></g><g class=\"guides\"><path class=\"guide line\" d=\"M122.273684 0.000000 v540.000000\"/><text class=\"\" x=\"122.27368421052631\" y=\"555.0\">NJ</text></g><g class=\"guides\"><path class=\"guide line\" d=\"M139.115789 0.000000 v540.000000\"/><text class=\"\" x=\"139.1157894736842\" y=\"555.0\">PA</text></g><g class=\"guides\"><path class=\"guide line\" d=\"M155.957895 0.000000 v540.000000\"/><text class=\"\" x=\"155.9578947368421\" y=\"555.0\">CT</text></g><g class=\"guides\"><path class=\"guide line\" d=\"M172.800000 0.000000 v540.000000\"/><text class=\"\" x=\"172.8\" y=\"555.0\">MN</text></g><g class=\"guides\"><path class=\"guide line\" d=\"M189.642105 0.000000 v540.000000\"/><text class=\"\" x=\"189.64210526315793\" y=\"555.0\">GA</text></g><g class=\"guides\"><path class=\"guide line\" d=\"M206.484211 0.000000 v540.000000\"/><text class=\"\" x=\"206.4842105263158\" y=\"555.0\">FL</text></g><g class=\"guides\"><path class=\"guide line\" d=\"M223.326316 0.000000 v540.000000\"/><text class=\"\" x=\"223.3263157894737\" y=\"555.0\">MI</text></g><g class=\"guides\"><path class=\"guide line\" d=\"M240.168421 0.000000 v540.000000\"/><text class=\"\" x=\"240.16842105263157\" y=\"555.0\">MA</text></g><g class=\"guides\"><path class=\"guide line\" d=\"M257.010526 0.000000 v540.000000\"/><text class=\"\" x=\"257.0105263157895\" y=\"555.0\">TN</text></g><g class=\"guides\"><path class=\"guide line\" d=\"M273.852632 0.000000 v540.000000\"/><text class=\"\" x=\"273.8526315789474\" y=\"555.0\">NC</text></g><g class=\"guides\"><path class=\"guide line\" d=\"M290.694737 0.000000 v540.000000\"/><text class=\"\" x=\"290.69473684210527\" y=\"555.0\">WA</text></g><g class=\"guides\"><path class=\"guide line\" d=\"M307.536842 0.000000 v540.000000\"/><text class=\"\" x=\"307.5368421052632\" y=\"555.0\">MO</text></g><g class=\"guides\"><path class=\"guide line\" d=\"M324.378947 0.000000 v540.000000\"/><text class=\"\" x=\"324.37894736842105\" y=\"555.0\">CO</text></g><g class=\"guides\"><path class=\"guide line\" d=\"M341.221053 0.000000 v540.000000\"/><text class=\"\" x=\"341.221052631579\" y=\"555.0\">WI</text></g><g class=\"guides\"><path class=\"guide line\" d=\"M358.063158 0.000000 v540.000000\"/><text class=\"\" x=\"358.06315789473683\" y=\"555.0\">IN</text></g><g class=\"guides\"><path class=\"guide line\" d=\"M374.905263 0.000000 v540.000000\"/><text class=\"\" x=\"374.90526315789475\" y=\"555.0\">AR</text></g><g class=\"guides\"><path class=\"guide line\" d=\"M391.747368 0.000000 v540.000000\"/><text class=\"\" x=\"391.7473684210526\" y=\"555.0\">OK</text></g><g class=\"guides\"><path class=\"guide line\" d=\"M408.589474 0.000000 v540.000000\"/><text class=\"\" x=\"408.5894736842106\" y=\"555.0\">NE</text></g><g class=\"guides\"><path class=\"guide line\" d=\"M425.431579 0.000000 v540.000000\"/><text class=\"\" x=\"425.4315789473684\" y=\"555.0\">RI</text></g><g class=\"guides\"><path class=\"guide line\" d=\"M442.273684 0.000000 v540.000000\"/><text class=\"\" x=\"442.2736842105263\" y=\"555.0\">MD</text></g><g class=\"guides\"><path class=\"guide line\" d=\"M459.115789 0.000000 v540.000000\"/><text class=\"\" x=\"459.1157894736842\" y=\"555.0\">AZ</text></g><g class=\"guides\"><path class=\"guide line\" d=\"M475.957895 0.000000 v540.000000\"/><text class=\"\" x=\"475.95789473684215\" y=\"555.0\">IA</text></g><g class=\"guides\"><path class=\"guide line\" d=\"M492.800000 0.000000 v540.000000\"/><text class=\"\" x=\"492.8\" y=\"555.0\">KY</text></g><g class=\"guides\"><path class=\"guide line\" d=\"M509.642105 0.000000 v540.000000\"/><text class=\"\" x=\"509.64210526315793\" y=\"555.0\">LA</text></g><g class=\"guides\"><path class=\"guide line\" d=\"M526.484211 0.000000 v540.000000\"/><text class=\"\" x=\"526.4842105263158\" y=\"555.0\">DE</text></g><g class=\"guides\"><path class=\"guide line\" d=\"M543.326316 0.000000 v540.000000\"/><text class=\"\" x=\"543.3263157894737\" y=\"555.0\">KS</text></g><g class=\"guides\"><path class=\"guide line\" d=\"M560.168421 0.000000 v540.000000\"/><text class=\"\" x=\"560.1684210526316\" y=\"555.0\">OR</text></g><g class=\"guides\"><path class=\"guide line\" d=\"M577.010526 0.000000 v540.000000\"/><text class=\"\" x=\"577.0105263157895\" y=\"555.0\">DC</text></g><g class=\"guides\"><path class=\"guide line\" d=\"M593.852632 0.000000 v540.000000\"/><text class=\"\" x=\"593.8526315789474\" y=\"555.0\">NV</text></g><g class=\"guides\"><path class=\"guide line\" d=\"M610.694737 0.000000 v540.000000\"/><text class=\"\" x=\"610.6947368421053\" y=\"555.0\">ID</text></g><g class=\"guides\"><path class=\"guide line\" d=\"M627.536842 0.000000 v540.000000\"/><text class=\"\" x=\"627.5368421052632\" y=\"555.0\">UT</text></g><g class=\"guides\"><path class=\"guide line\" d=\"M644.378947 0.000000 v540.000000\"/><text class=\"\" x=\"644.378947368421\" y=\"555.0\">AL</text></g></g><g class=\"series serie-0 color-0\"><g class=\"bars\"><g class=\"bar\"><rect class=\"rect reactive tooltip-trigger\" height=\"500.34965034965035\" rx=\"0\" ry=\"0\" width=\"13.042526315789473\" x=\"14.699789473684211\" y=\"29.265734265734295\"/><desc class=\"value\">53</desc><desc class=\"x centered\">21.22105263157895</desc><desc class=\"y centered\">279.44055944055947</desc><desc class=\"x_label\">NY</desc></g><g class=\"bar\"><rect class=\"rect reactive tooltip-trigger\" height=\"500.34965034965035\" rx=\"0\" ry=\"0\" width=\"13.042526315789473\" x=\"31.541894736842103\" y=\"29.265734265734295\"/><desc class=\"value\">53</desc><desc class=\"x centered\">38.06315789473684</desc><desc class=\"y centered\">279.44055944055947</desc><desc class=\"x_label\">CA</desc></g><g class=\"bar\"><rect class=\"rect reactive tooltip-trigger\" height=\"462.5874125874126\" rx=\"0\" ry=\"0\" width=\"13.042526315789473\" x=\"48.384\" y=\"67.02797202797206\"/><desc class=\"value\">49</desc><desc class=\"x centered\">54.90526315789474</desc><desc class=\"y centered\">298.32167832167835</desc><desc class=\"x_label\">TX</desc></g><g class=\"bar\"><rect class=\"rect reactive tooltip-trigger\" height=\"330.4195804195804\" rx=\"0\" ry=\"0\" width=\"13.042526315789473\" x=\"65.22610526315789\" y=\"199.19580419580421\"/><desc class=\"value\">35</desc><desc class=\"x centered\">71.74736842105263</desc><desc class=\"y centered\">364.40559440559446</desc><desc class=\"x_label\">IL</desc></g><g class=\"bar\"><rect class=\"rect reactive tooltip-trigger\" height=\"236.01398601398603\" rx=\"0\" ry=\"0\" width=\"13.042526315789473\" x=\"82.06821052631577\" y=\"293.6013986013986\"/><desc class=\"value\">25</desc><desc class=\"x centered\">88.5894736842105</desc><desc class=\"y centered\">411.6083916083916</desc><desc class=\"x_label\">OH</desc></g><g class=\"bar\"><rect class=\"rect reactive tooltip-trigger\" height=\"217.13286713286715\" rx=\"0\" ry=\"0\" width=\"13.042526315789473\" x=\"98.91031578947367\" y=\"312.4825174825175\"/><desc class=\"value\">23</desc><desc class=\"x centered\">105.43157894736841</desc><desc class=\"y centered\">421.04895104895104</desc><desc class=\"x_label\">VA</desc></g><g class=\"bar\"><rect class=\"rect reactive tooltip-trigger\" height=\"207.69230769230774\" rx=\"0\" ry=\"0\" width=\"13.042526315789473\" x=\"115.75242105263158\" y=\"321.9230769230769\"/><desc class=\"value\">22</desc><desc class=\"x centered\">122.27368421052631</desc><desc class=\"y centered\">425.7692307692308</desc><desc class=\"x_label\">NJ</desc></g><g class=\"bar\"><rect class=\"rect reactive tooltip-trigger\" height=\"198.25174825174827\" rx=\"0\" ry=\"0\" width=\"13.042526315789473\" x=\"132.59452631578944\" y=\"331.3636363636364\"/><desc class=\"value\">21</desc><desc class=\"x centered\">139.11578947368417</desc><desc class=\"y centered\">430.4895104895105</desc><desc class=\"x_label\">PA</desc></g><g class=\"bar\"><rect class=\"rect reactive tooltip-trigger\" height=\"179.3706293706294\" rx=\"0\" ry=\"0\" width=\"13.042526315789473\" x=\"149.43663157894733\" y=\"350.24475524475525\"/><desc class=\"value\">19</desc><desc class=\"x centered\">155.95789473684206</desc><desc class=\"y centered\">439.93006993007</desc><desc class=\"x_label\">CT</desc></g><g class=\"bar\"><rect class=\"rect reactive tooltip-trigger\" height=\"169.93006993006998\" rx=\"0\" ry=\"0\" width=\"13.042526315789473\" x=\"166.27873684210522\" y=\"359.68531468531467\"/><desc class=\"value\">18</desc><desc class=\"x centered\">172.79999999999995</desc><desc class=\"y centered\">444.65034965034965</desc><desc class=\"x_label\">MN</desc></g><g class=\"bar\"><rect class=\"rect reactive tooltip-trigger\" height=\"169.93006993006998\" rx=\"0\" ry=\"0\" width=\"13.042526315789473\" x=\"183.12084210526316\" y=\"359.68531468531467\"/><desc class=\"value\">18</desc><desc class=\"x centered\">189.6421052631579</desc><desc class=\"y centered\">444.65034965034965</desc><desc class=\"x_label\">GA</desc></g><g class=\"bar\"><rect class=\"rect reactive tooltip-trigger\" height=\"160.4895104895105\" rx=\"0\" ry=\"0\" width=\"13.042526315789473\" x=\"199.96294736842106\" y=\"369.12587412587413\"/><desc class=\"value\">17</desc><desc class=\"x centered\">206.4842105263158</desc><desc class=\"y centered\">449.3706293706294</desc><desc class=\"x_label\">FL</desc></g><g class=\"bar\"><rect class=\"rect reactive tooltip-trigger\" height=\"160.4895104895105\" rx=\"0\" ry=\"0\" width=\"13.042526315789473\" x=\"216.80505263157895\" y=\"369.12587412587413\"/><desc class=\"value\">17</desc><desc class=\"x centered\">223.32631578947368</desc><desc class=\"y centered\">449.3706293706294</desc><desc class=\"x_label\">MI</desc></g><g class=\"bar\"><rect class=\"rect reactive tooltip-trigger\" height=\"113.28671328671328\" rx=\"0\" ry=\"0\" width=\"13.042526315789473\" x=\"233.64715789473686\" y=\"416.32867132867136\"/><desc class=\"value\">12</desc><desc class=\"x centered\">240.1684210526316</desc><desc class=\"y centered\">472.972027972028</desc><desc class=\"x_label\">MA</desc></g><g class=\"bar\"><rect class=\"rect reactive tooltip-trigger\" height=\"103.84615384615387\" rx=\"0\" ry=\"0\" width=\"13.042526315789473\" x=\"250.48926315789475\" y=\"425.7692307692308\"/><desc class=\"value\">11</desc><desc class=\"x centered\">257.0105263157895</desc><desc class=\"y centered\">477.69230769230774</desc><desc class=\"x_label\">TN</desc></g><g class=\"bar\"><rect class=\"rect reactive tooltip-trigger\" height=\"103.84615384615387\" rx=\"0\" ry=\"0\" width=\"13.042526315789473\" x=\"267.3313684210527\" y=\"425.7692307692308\"/><desc class=\"value\">11</desc><desc class=\"x centered\">273.8526315789474</desc><desc class=\"y centered\">477.69230769230774</desc><desc class=\"x_label\">NC</desc></g><g class=\"bar\"><rect class=\"rect reactive tooltip-trigger\" height=\"94.40559440559446\" rx=\"0\" ry=\"0\" width=\"13.042526315789473\" x=\"284.17347368421053\" y=\"435.2097902097902\"/><desc class=\"value\">10</desc><desc class=\"x centered\">290.69473684210527</desc><desc class=\"y centered\">482.4125874125874</desc><desc class=\"x_label\">WA</desc></g><g class=\"bar\"><rect class=\"rect reactive tooltip-trigger\" height=\"94.40559440559446\" rx=\"0\" ry=\"0\" width=\"13.042526315789473\" x=\"301.01557894736845\" y=\"435.2097902097902\"/><desc class=\"value\">10</desc><desc class=\"x centered\">307.5368421052632</desc><desc class=\"y centered\">482.4125874125874</desc><desc class=\"x_label\">MO</desc></g><g class=\"bar\"><rect class=\"rect reactive tooltip-trigger\" height=\"94.40559440559446\" rx=\"0\" ry=\"0\" width=\"13.042526315789473\" x=\"317.8576842105263\" y=\"435.2097902097902\"/><desc class=\"value\">10</desc><desc class=\"x centered\">324.37894736842105</desc><desc class=\"y centered\">482.4125874125874</desc><desc class=\"x_label\">CO</desc></g><g class=\"bar\"><rect class=\"rect reactive tooltip-trigger\" height=\"84.96503496503499\" rx=\"0\" ry=\"0\" width=\"13.042526315789473\" x=\"334.69978947368423\" y=\"444.65034965034965\"/><desc class=\"value\">9</desc><desc class=\"x centered\">341.22105263157897</desc><desc class=\"y centered\">487.13286713286715</desc><desc class=\"x_label\">WI</desc></g><g class=\"bar\"><rect class=\"rect reactive tooltip-trigger\" height=\"66.08391608391611\" rx=\"0\" ry=\"0\" width=\"13.042526315789473\" x=\"351.54189473684215\" y=\"463.53146853146853\"/><desc class=\"value\">7</desc><desc class=\"x centered\">358.0631578947369</desc><desc class=\"y centered\">496.57342657342656</desc><desc class=\"x_label\">IN</desc></g><g class=\"bar\"><rect class=\"rect reactive tooltip-trigger\" height=\"56.6433566433567\" rx=\"0\" ry=\"0\" width=\"13.042526315789473\" x=\"368.38400000000007\" y=\"472.97202797202794\"/><desc class=\"value\">6</desc><desc class=\"x centered\">374.9052631578948</desc><desc class=\"y centered\">501.2937062937063</desc><desc class=\"x_label\">AR</desc></g><g class=\"bar\"><rect class=\"rect reactive tooltip-trigger\" height=\"47.20279720279723\" rx=\"0\" ry=\"0\" width=\"13.042526315789473\" x=\"385.22610526315793\" y=\"482.4125874125874\"/><desc class=\"value\">5</desc><desc class=\"x centered\">391.74736842105267</desc><desc class=\"y centered\">506.013986013986</desc><desc class=\"x_label\">OK</desc></g><g class=\"bar\"><rect class=\"rect reactive tooltip-trigger\" height=\"47.20279720279723\" rx=\"0\" ry=\"0\" width=\"13.042526315789473\" x=\"402.0682105263158\" y=\"482.4125874125874\"/><desc class=\"value\">5</desc><desc class=\"x centered\">408.58947368421053</desc><desc class=\"y centered\">506.013986013986</desc><desc class=\"x_label\">NE</desc></g><g class=\"bar\"><rect class=\"rect reactive tooltip-trigger\" height=\"37.76223776223776\" rx=\"0\" ry=\"0\" width=\"13.042526315789473\" x=\"418.9103157894737\" y=\"491.8531468531469\"/><desc class=\"value\">4</desc><desc class=\"x centered\">425.43157894736845</desc><desc class=\"y centered\">510.73426573426576</desc><desc class=\"x_label\">RI</desc></g><g class=\"bar\"><rect class=\"rect reactive tooltip-trigger\" height=\"37.76223776223776\" rx=\"0\" ry=\"0\" width=\"13.042526315789473\" x=\"435.75242105263163\" y=\"491.8531468531469\"/><desc class=\"value\">4</desc><desc class=\"x centered\">442.27368421052637</desc><desc class=\"y centered\">510.73426573426576</desc><desc class=\"x_label\">MD</desc></g><g class=\"bar\"><rect class=\"rect reactive tooltip-trigger\" height=\"37.76223776223776\" rx=\"0\" ry=\"0\" width=\"13.042526315789473\" x=\"452.59452631578955\" y=\"491.8531468531469\"/><desc class=\"value\">4</desc><desc class=\"x centered\">459.1157894736843</desc><desc class=\"y centered\">510.73426573426576</desc><desc class=\"x_label\">AZ</desc></g><g class=\"bar\"><rect class=\"rect reactive tooltip-trigger\" height=\"28.32167832167835\" rx=\"0\" ry=\"0\" width=\"13.042526315789473\" x=\"469.43663157894736\" y=\"501.2937062937063\"/><desc class=\"value\">3</desc><desc class=\"x centered\">475.9578947368421</desc><desc class=\"y centered\">515.4545454545455</desc><desc class=\"x_label\">IA</desc></g><g class=\"bar\"><rect class=\"rect reactive tooltip-trigger\" height=\"28.32167832167835\" rx=\"0\" ry=\"0\" width=\"13.042526315789473\" x=\"486.2787368421053\" y=\"501.2937062937063\"/><desc class=\"value\">3</desc><desc class=\"x centered\">492.8</desc><desc class=\"y centered\">515.4545454545455</desc><desc class=\"x_label\">KY</desc></g><g class=\"bar\"><rect class=\"rect reactive tooltip-trigger\" height=\"18.88111888111888\" rx=\"0\" ry=\"0\" width=\"13.042526315789473\" x=\"503.1208421052632\" y=\"510.73426573426576\"/><desc class=\"value\">2</desc><desc class=\"x centered\">509.64210526315793</desc><desc class=\"y centered\">520.1748251748252</desc><desc class=\"x_label\">LA</desc></g><g class=\"bar\"><rect class=\"rect reactive tooltip-trigger\" height=\"18.88111888111888\" rx=\"0\" ry=\"0\" width=\"13.042526315789473\" x=\"519.962947368421\" y=\"510.73426573426576\"/><desc class=\"value\">2</desc><desc class=\"x centered\">526.4842105263158</desc><desc class=\"y centered\">520.1748251748252</desc><desc class=\"x_label\">DE</desc></g><g class=\"bar\"><rect class=\"rect reactive tooltip-trigger\" height=\"18.88111888111888\" rx=\"0\" ry=\"0\" width=\"13.042526315789473\" x=\"536.805052631579\" y=\"510.73426573426576\"/><desc class=\"value\">2</desc><desc class=\"x centered\">543.3263157894737</desc><desc class=\"y centered\">520.1748251748252</desc><desc class=\"x_label\">KS</desc></g><g class=\"bar\"><rect class=\"rect reactive tooltip-trigger\" height=\"18.88111888111888\" rx=\"0\" ry=\"0\" width=\"13.042526315789473\" x=\"553.6471578947369\" y=\"510.73426573426576\"/><desc class=\"value\">2</desc><desc class=\"x centered\">560.1684210526316</desc><desc class=\"y centered\">520.1748251748252</desc><desc class=\"x_label\">OR</desc></g><g class=\"bar\"><rect class=\"rect reactive tooltip-trigger\" height=\"18.88111888111888\" rx=\"0\" ry=\"0\" width=\"13.042526315789473\" x=\"570.4892631578948\" y=\"510.73426573426576\"/><desc class=\"value\">2</desc><desc class=\"x centered\">577.0105263157895</desc><desc class=\"y centered\">520.1748251748252</desc><desc class=\"x_label\">DC</desc></g><g class=\"bar\"><rect class=\"rect reactive tooltip-trigger\" height=\"18.88111888111888\" rx=\"0\" ry=\"0\" width=\"13.042526315789473\" x=\"587.3313684210526\" y=\"510.73426573426576\"/><desc class=\"value\">2</desc><desc class=\"x centered\">593.8526315789474</desc><desc class=\"y centered\">520.1748251748252</desc><desc class=\"x_label\">NV</desc></g><g class=\"bar\"><rect class=\"rect reactive tooltip-trigger\" height=\"18.88111888111888\" rx=\"0\" ry=\"0\" width=\"13.042526315789473\" x=\"604.1734736842105\" y=\"510.73426573426576\"/><desc class=\"value\">2</desc><desc class=\"x centered\">610.6947368421053</desc><desc class=\"y centered\">520.1748251748252</desc><desc class=\"x_label\">ID</desc></g><g class=\"bar\"><rect class=\"rect reactive tooltip-trigger\" height=\"9.440559440559468\" rx=\"0\" ry=\"0\" width=\"13.042526315789473\" x=\"621.0155789473685\" y=\"520.1748251748252\"/><desc class=\"value\">1</desc><desc class=\"x centered\">627.5368421052632</desc><desc class=\"y centered\">524.8951048951049</desc><desc class=\"x_label\">UT</desc></g><g class=\"bar\"><rect class=\"rect reactive tooltip-trigger\" height=\"9.440559440559468\" rx=\"0\" ry=\"0\" width=\"13.042526315789473\" x=\"637.8576842105264\" y=\"520.1748251748252\"/><desc class=\"value\">1</desc><desc class=\"x centered\">644.3789473684211</desc><desc class=\"y centered\">524.8951048951049</desc><desc class=\"x_label\">AL</desc></g></g></g></g><g class=\"titles\"/><g class=\"plot overlay\" transform=\"translate(114, 20)\"><g class=\"series serie-0 color-0\"/></g><g class=\"plot text-overlay\" transform=\"translate(114, 20)\"><g class=\"series serie-0 color-0\"/></g><g class=\"plot tooltip-overlay\" transform=\"translate(114, 20)\"><g class=\"tooltip\" style=\"opacity: 0\" transform=\"translate(0 0)\"><rect class=\"tooltip-box\" height=\"0\" rx=\"0\" ry=\"0\" width=\"0\"/><g class=\"text\"/></g></g><g class=\"legends\" transform=\"translate(10, 30)\"><g class=\"legend reactive activate-serie\" id=\"activate-serie-0\"><rect class=\"color-0 reactive\" height=\"12\" width=\"12\" x=\"0.0\" y=\"1.0\"/><text x=\"17.0\" y=\"11.2\">States</text></g></g><g class=\"legends\" transform=\"translate(790, 30)\"/></g></svg>"
      ],
      "text/plain": [
       "<IPython.core.display.SVG object>"
      ]
     },
     "metadata": {},
     "output_type": "display_data"
    }
   ],
   "source": [
    "import pygal\n",
    "from pygal.style import DarkGreenBlueStyle\n",
    "from IPython.display import SVG, display\n",
    "\n",
    "bar = pygal.Bar(fill=True, interpolate='cubic', style=DarkGreenBlueStyle)\n",
    "bar.y_labels = list(range(0, 60, 5))\n",
    "bar.add(\"States\", state_count[::-1])\n",
    "bar.x_labels = state_names[::-1]\n",
    "display(SVG(bar.render(disable_xml_declaration=True)))\n",
    "bar.render_to_file(\"file.svg\")"
   ]
  },
  {
   "cell_type": "code",
   "execution_count": 40,
   "metadata": {},
   "outputs": [
    {
     "ename": "ModuleNotFoundError",
     "evalue": "No module named 'cairosvg'",
     "output_type": "error",
     "traceback": [
      "\u001b[1;31m---------------------------------------------------------------------------\u001b[0m",
      "\u001b[1;31mModuleNotFoundError\u001b[0m                       Traceback (most recent call last)",
      "\u001b[1;32m<ipython-input-40-6dd68e66f70e>\u001b[0m in \u001b[0;36m<module>\u001b[1;34m\u001b[0m\n\u001b[1;32m----> 1\u001b[1;33m \u001b[0mbar\u001b[0m\u001b[1;33m.\u001b[0m\u001b[0mrender_to_png\u001b[0m\u001b[1;33m(\u001b[0m\u001b[1;34m\"f500hq.png\"\u001b[0m\u001b[1;33m)\u001b[0m\u001b[1;33m\u001b[0m\u001b[0m\n\u001b[0m",
      "\u001b[1;32mc:\\users\\ahmed\\appdata\\local\\programs\\python\\python36-32\\lib\\site-packages\\pygal\\graph\\public.py\u001b[0m in \u001b[0;36mrender_to_png\u001b[1;34m(self, filename, dpi, **kwargs)\u001b[0m\n\u001b[0;32m    116\u001b[0m     \u001b[1;32mdef\u001b[0m \u001b[0mrender_to_png\u001b[0m\u001b[1;33m(\u001b[0m\u001b[0mself\u001b[0m\u001b[1;33m,\u001b[0m \u001b[0mfilename\u001b[0m\u001b[1;33m=\u001b[0m\u001b[1;32mNone\u001b[0m\u001b[1;33m,\u001b[0m \u001b[0mdpi\u001b[0m\u001b[1;33m=\u001b[0m\u001b[1;36m72\u001b[0m\u001b[1;33m,\u001b[0m \u001b[1;33m**\u001b[0m\u001b[0mkwargs\u001b[0m\u001b[1;33m)\u001b[0m\u001b[1;33m:\u001b[0m\u001b[1;33m\u001b[0m\u001b[0m\n\u001b[0;32m    117\u001b[0m         \u001b[1;34m\"\"\"Render the graph, convert it to png and write it to filename\"\"\"\u001b[0m\u001b[1;33m\u001b[0m\u001b[0m\n\u001b[1;32m--> 118\u001b[1;33m         \u001b[1;32mimport\u001b[0m \u001b[0mcairosvg\u001b[0m\u001b[1;33m\u001b[0m\u001b[0m\n\u001b[0m\u001b[0;32m    119\u001b[0m         return cairosvg.svg2png(\n\u001b[0;32m    120\u001b[0m             bytestring=self.render(**kwargs), write_to=filename, dpi=dpi)\n",
      "\u001b[1;31mModuleNotFoundError\u001b[0m: No module named 'cairosvg'"
     ]
    }
   ],
   "source": [
    "bar.render_to_png(\"f500hq.png\")"
   ]
  },
  {
   "cell_type": "code",
   "execution_count": null,
   "metadata": {},
   "outputs": [],
   "source": []
  }
 ],
 "metadata": {
  "kernelspec": {
   "display_name": "Python 3",
   "language": "python",
   "name": "python3"
  },
  "language_info": {
   "codemirror_mode": {
    "name": "ipython",
    "version": 3
   },
   "file_extension": ".py",
   "mimetype": "text/x-python",
   "name": "python",
   "nbconvert_exporter": "python",
   "pygments_lexer": "ipython3",
   "version": "3.6.4"
  }
 },
 "nbformat": 4,
 "nbformat_minor": 2
}
